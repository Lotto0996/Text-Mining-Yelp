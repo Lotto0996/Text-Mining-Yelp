{
 "cells": [
  {
   "cell_type": "markdown",
   "metadata": {},
   "source": [
    "## Import data"
   ]
  },
  {
   "cell_type": "code",
   "execution_count": null,
   "metadata": {
    "collapsed": true
   },
   "outputs": [],
   "source": [
    "import json\n",
    "tip_file = 'yelp_academic_dataset_tip.json'\n",
    "tip_records = [json.loads(line) for line in open(tip_file)]\n",
    "len(tip_records)"
   ]
  },
  {
   "cell_type": "code",
   "execution_count": null,
   "metadata": {
    "collapsed": true
   },
   "outputs": [],
   "source": [
    "checkin_file = 'yelp_academic_dataset_checkin.json'\n",
    "checkin_records = [json.loads(line) for line in open(checkin_file)]\n",
    "len(checkin_records)"
   ]
  },
  {
   "cell_type": "code",
   "execution_count": 1,
   "metadata": {},
   "outputs": [
    {
     "data": {
      "text/plain": [
       "4153150"
      ]
     },
     "execution_count": 1,
     "metadata": {},
     "output_type": "execute_result"
    }
   ],
   "source": [
    "import json\n",
    "review_file = 'yelp_academic_dataset_review.json'\n",
    "reviews = [json.loads(line) for line in open(review_file)]\n",
    "len(reviews)"
   ]
  },
  {
   "cell_type": "code",
   "execution_count": 11,
   "metadata": {},
   "outputs": [
    {
     "data": {
      "text/plain": [
       "{u'business_id': u'2aFiy99vNLklCx3T_tGS9A',\n",
       " u'cool': 0,\n",
       " u'date': u'2011-10-10',\n",
       " u'funny': 0,\n",
       " u'review_id': u'NxL8SIC5yqOdnlXCg18IBg',\n",
       " u'stars': 5,\n",
       " u'text': u\"If you enjoy service by someone who is as competent as he is personable, I would recommend Corey Kaplan highly. The time he has spent here has been very productive and working with him educational and enjoyable. I hope not to need him again (though this is highly unlikely) but knowing he is there if I do is very nice. By the way, I'm not from El Centro, CA. but Scottsdale, AZ.\",\n",
       " u'type': u'review',\n",
       " u'useful': 0,\n",
       " u'user_id': u'KpkOkG6RIf4Ra25Lhhxf1A'}"
      ]
     },
     "execution_count": 11,
     "metadata": {},
     "output_type": "execute_result"
    }
   ],
   "source": [
    "reviews[0]"
   ]
  },
  {
   "cell_type": "code",
   "execution_count": 2,
   "metadata": {},
   "outputs": [
    {
     "data": {
      "text/plain": [
       "144072"
      ]
     },
     "execution_count": 2,
     "metadata": {},
     "output_type": "execute_result"
    }
   ],
   "source": [
    "import json\n",
    "business_file = 'yelp_academic_dataset_business.json'\n",
    "business_records = [json.loads(line) for line in open(business_file)]\n",
    "len(business_records)"
   ]
  },
  {
   "cell_type": "code",
   "execution_count": 12,
   "metadata": {},
   "outputs": [
    {
     "data": {
      "text/plain": [
       "{u'address': u'227 E Baseline Rd, Ste J2',\n",
       " u'attributes': [u'BikeParking: True',\n",
       "  u'BusinessAcceptsBitcoin: False',\n",
       "  u'BusinessAcceptsCreditCards: True',\n",
       "  u\"BusinessParking: {'garage': False, 'street': False, 'validated': False, 'lot': True, 'valet': False}\",\n",
       "  u'DogsAllowed: False',\n",
       "  u'RestaurantsPriceRange2: 2',\n",
       "  u'WheelchairAccessible: True'],\n",
       " u'business_id': u'0DI8Dt2PJp07XkVvIElIcQ',\n",
       " u'categories': [u'Tobacco Shops', u'Nightlife', u'Vape Shops', u'Shopping'],\n",
       " u'city': u'Tempe',\n",
       " u'hours': [u'Monday 11:0-21:0',\n",
       "  u'Tuesday 11:0-21:0',\n",
       "  u'Wednesday 11:0-21:0',\n",
       "  u'Thursday 11:0-21:0',\n",
       "  u'Friday 11:0-22:0',\n",
       "  u'Saturday 10:0-22:0',\n",
       "  u'Sunday 11:0-18:0'],\n",
       " u'is_open': 0,\n",
       " u'latitude': 33.3782141,\n",
       " u'longitude': -111.936102,\n",
       " u'name': u'Innovative Vapors',\n",
       " u'neighborhood': u'',\n",
       " u'postal_code': u'85283',\n",
       " u'review_count': 17,\n",
       " u'stars': 4.5,\n",
       " u'state': u'AZ',\n",
       " u'type': u'business'}"
      ]
     },
     "execution_count": 12,
     "metadata": {},
     "output_type": "execute_result"
    }
   ],
   "source": [
    "business_records[0]"
   ]
  },
  {
   "cell_type": "code",
   "execution_count": null,
   "metadata": {
    "collapsed": true
   },
   "outputs": [],
   "source": [
    "print ('Business records:',len(business_records))\n",
    "print ('Tip records:',len(tip_records))\n",
    "print ('Checkin records:',len(checkin_records))\n",
    "print ('Reviews:',len(reviews))"
   ]
  },
  {
   "cell_type": "markdown",
   "metadata": {},
   "source": [
    "## Data Exploration - analyze businesses and reviews"
   ]
  },
  {
   "cell_type": "code",
   "execution_count": null,
   "metadata": {
    "collapsed": true
   },
   "outputs": [],
   "source": [
    "cities=[]\n",
    "for l in business_records:\n",
    "    cities.append(l['city'])\n",
    "city_list=list(set(cities))\n",
    "print ('no of cities',len(city_list))\n",
    "\n",
    "states=[]\n",
    "for l in business_records:\n",
    "    states.append(l['state'])\n",
    "state_list=list(set(states))\n",
    "print ('no of states',len(state_list))"
   ]
  },
  {
   "cell_type": "code",
   "execution_count": null,
   "metadata": {
    "collapsed": true
   },
   "outputs": [],
   "source": [
    "from collections import defaultdict\n",
    "bus_city=defaultdict(list)\n",
    "bus_state=defaultdict(list)\n",
    "for b in business_records:\n",
    "    bus_city[b['city']].append(1)\n",
    "    bus_state[b['state']].append(1)    "
   ]
  },
  {
   "cell_type": "code",
   "execution_count": null,
   "metadata": {
    "collapsed": true
   },
   "outputs": [],
   "source": [
    "business_records[0]"
   ]
  },
  {
   "cell_type": "code",
   "execution_count": null,
   "metadata": {
    "collapsed": true
   },
   "outputs": [],
   "source": [
    "x=0\n",
    "w=[]\n",
    "for c in city_list:\n",
    "    w.append((c,sum(bus_city[c])))\n",
    "    x+=sum(bus_city[c])\n",
    "w=sorted(w, key=lambda x: -x[1])\n",
    "print (w)"
   ]
  },
  {
   "cell_type": "code",
   "execution_count": null,
   "metadata": {
    "collapsed": true
   },
   "outputs": [],
   "source": [
    "ww=[]\n",
    "x=0\n",
    "print ('state, #reviews')\n",
    "for c in state_list:\n",
    "    ww.append((c,sum(bus_state[c])))\n",
    "    x+=sum(bus_state[c])\n",
    "ww=sorted(ww, key=lambda x: -x[1])\n",
    "print (ww,x)"
   ]
  },
  {
   "cell_type": "code",
   "execution_count": null,
   "metadata": {
    "collapsed": true
   },
   "outputs": [],
   "source": [
    "reviews[0]"
   ]
  },
  {
   "cell_type": "code",
   "execution_count": 4,
   "metadata": {
    "collapsed": true
   },
   "outputs": [],
   "source": [
    "from collections import defaultdict\n",
    "busID_state=defaultdict(list)\n",
    "busID_city=defaultdict(list)\n",
    "for b in business_records:\n",
    "    busID_state[b['business_id']]=b['state']\n",
    "    busID_city[b['business_id']]=b['city']"
   ]
  },
  {
   "cell_type": "code",
   "execution_count": null,
   "metadata": {
    "collapsed": true
   },
   "outputs": [],
   "source": [
    "reviews_city=defaultdict(list)\n",
    "reviews_state=defaultdict(list)\n",
    "for r in reviews:\n",
    "    reviews_city[busID_city[r['business_id']]].append(1)\n",
    "    reviews_state[busID_state[r['business_id']]].append(1)"
   ]
  },
  {
   "cell_type": "code",
   "execution_count": null,
   "metadata": {
    "collapsed": true
   },
   "outputs": [],
   "source": [
    "x=0\n",
    "w=[]\n",
    "print ('state, #reviews')\n",
    "for c in state_list:\n",
    "    w.append((c,sum(reviews_state[c])))\n",
    "    x+=sum(reviews_state[c])\n",
    "w=sorted(w, key=lambda x: -x[1])\n",
    "print (w,x)"
   ]
  },
  {
   "cell_type": "markdown",
   "metadata": {},
   "source": [
    "filt data, standard deviation of ratings, overlapping rating histogram after normalization, n-grams,\n",
    "#reviews per cities histogram, "
   ]
  },
  {
   "cell_type": "code",
   "execution_count": null,
   "metadata": {
    "collapsed": true
   },
   "outputs": [],
   "source": [
    "x=0\n",
    "ww=[]\n",
    "print ('city, #reviews')\n",
    "filtered_city_list=['Montréal','Edinburgh','Pittsburgh','Stuttgart']\n",
    "for c in filtered_city_list:\n",
    "    ww.append((c,sum(reviews_city[c])))\n",
    "    x+=sum(reviews_city[c])\n",
    "ww=sorted(ww, key=lambda x: -x[1])\n",
    "print (ww,x)"
   ]
  },
  {
   "cell_type": "code",
   "execution_count": null,
   "metadata": {
    "collapsed": true
   },
   "outputs": [],
   "source": [
    "rev_rating=defaultdict(list)\n",
    "s=[]\n",
    "for r in reviews:\n",
    "    rev_rating[r['stars']].append(1)\n",
    "    s.append(r['stars'])\n",
    "print ('stars, #reviews')\n",
    "\n",
    "for x in list(set(s)):\n",
    "    print (x,sum(rev_rating[x]))"
   ]
  },
  {
   "cell_type": "code",
   "execution_count": null,
   "metadata": {
    "collapsed": true
   },
   "outputs": [],
   "source": [
    "ww=[]\n",
    "for x in list(set(s)):\n",
    "    ww.append((x,sum(rev_rating[x])))\n",
    "print (ww)"
   ]
  },
  {
   "cell_type": "code",
   "execution_count": null,
   "metadata": {
    "collapsed": true
   },
   "outputs": [],
   "source": [
    "rev_year=defaultdict(list)\n",
    "rev_rating_year=defaultdict(list)\n",
    "rev_rating_month=defaultdict(list)\n",
    "rev_rating_state=defaultdict(list)\n",
    "rev_rating_city=defaultdict(list)\n",
    "y=[]\n",
    "m=[]\n",
    "for r in reviews[:10000]:\n",
    "    rev_year[r['date'].split('-')[0]].append(1)\n",
    "    rev_rating_year[r['date'].split('-')[0]].append(r['stars'])\n",
    "    rev_rating_month[r['date'].split('-')[1]].append(r['stars'])\n",
    "    rev_rating_state[busID_state[r['business_id']]].append(r['stars'])\n",
    "    rev_rating_city[busID_city[r['business_id']]].append(r['stars'])\n",
    "    y.append(r['date'].split('-')[0])\n",
    "    m.append(r['date'].split('-')[1])\n",
    "temp=0\n",
    "print ('year, #reviews, avg. stars')\n",
    "for x in sorted(list(set(y))):\n",
    "    q=sum(rev_year[x]) #total reviews in year 'x'\n",
    "    print (x,q,float(sum(rev_rating_year[x]))/q)\n",
    "    temp+=sum(rev_year[x])\n",
    "print ('month, #reviews, avg. stars')\n",
    "for x in sorted(list(set(m))):\n",
    "    q=len(rev_rating_month[x]) #total reviews in month 'x'\n",
    "    print (x,q,float(sum(rev_rating_month[x]))/q)\n",
    "print ('city, avg. stars')\n",
    "for st in filtered_city_list:\n",
    "    print (st,sum(rev_rating_city[st])/len(rev_rating_city[st]))\n",
    "# for ci in city_list:\n",
    "#     print (ci,sum(rev_rating_city[ci])/len(rev_rating_city[ci]))"
   ]
  },
  {
   "cell_type": "code",
   "execution_count": null,
   "metadata": {
    "collapsed": true
   },
   "outputs": [],
   "source": [
    "# print ('year, #reviews, avg. stars')\n",
    "w1=[]\n",
    "w2=[]\n",
    "w3=[]\n",
    "w4=[]\n",
    "w5=[]\n",
    "for x in sorted(list(set(y))):\n",
    "    q=sum(rev_year[x]) #total reviews in year 'x'\n",
    "    w1.append((x,q))\n",
    "    w2.append((x,float(sum(rev_rating_year[x]))/q, np.std(rev_rating_year[x])))\n",
    "#     temp+=sum(rev_year[x])\n",
    "# print ('month, #reviews, avg. stars')\n",
    "for x in sorted(list(set(m))):\n",
    "    q=len(rev_rating_month[x]) #total reviews in month 'x'\n",
    "    w3.append((x,q))\n",
    "    w4.append((x,float(sum(rev_rating_month[x]))/q, np.std(rev_rating_month[x])))\n",
    "# print ('city, avg. stars')\n",
    "for st in filtered_city_list:\n",
    "    w5.append((st,sum(rev_rating_city[st])/len(rev_rating_city[st])))"
   ]
  },
  {
   "cell_type": "code",
   "execution_count": null,
   "metadata": {
    "collapsed": true
   },
   "outputs": [],
   "source": [
    "ww=[]\n",
    "for x in list(set(s)):\n",
    "    ww.append((x,sum(rev_rating[x])))\n",
    "print (ww)"
   ]
  },
  {
   "cell_type": "code",
   "execution_count": 5,
   "metadata": {},
   "outputs": [
    {
     "name": "stderr",
     "output_type": "stream",
     "text": [
      "/usr/local/lib/python2.7/dist-packages/ipykernel_launcher.py:4: UnicodeWarning: Unicode equal comparison failed to convert both arguments to Unicode - interpreting them as being unequal\n",
      "  after removing the cwd from sys.path.\n"
     ]
    }
   ],
   "source": [
    "filtered_city_list=['Montréal','Edinburgh','Pittsburgh','Stuttgart']\n",
    "reviews_filtered=[]\n",
    "for r in reviews:\n",
    "    if busID_city[r['business_id']] in filtered_city_list:\n",
    "        reviews_filtered.append(r)"
   ]
  },
  {
   "cell_type": "code",
   "execution_count": null,
   "metadata": {
    "collapsed": true
   },
   "outputs": [],
   "source": [
    "frev_year=defaultdict(list)\n",
    "frev_rating_year=defaultdict(list)\n",
    "frev_rating_month=defaultdict(list)\n",
    "frev_rating_state=defaultdict(list)\n",
    "frev_rating_city=defaultdict(list)\n",
    "for r in reviews_filtered:\n",
    "    frev_year[r['date'].split('-')[0]].append(1)\n",
    "    frev_rating_year[r['date'].split('-')[0]].append(r['stars'])\n",
    "    frev_rating_month[r['date'].split('-')[1]].append(r['stars'])\n",
    "    frev_rating_state[busID_state[r['business_id']]].append(r['stars'])\n",
    "    frev_rating_city[busID_city[r['business_id']]].append(r['stars'])"
   ]
  },
  {
   "cell_type": "code",
   "execution_count": null,
   "metadata": {
    "collapsed": true
   },
   "outputs": [],
   "source": [
    "ww1=[]\n",
    "ww2=[]\n",
    "ww3=[]\n",
    "ww4=[]\n",
    "ww5=[]\n",
    "for x in sorted(list(set(y))):\n",
    "    q=sum(frev_year[x]) #total reviews in year 'x'\n",
    "    ww1.append((x,q))\n",
    "    ww2.append((x,float(sum(frev_rating_year[x]))/q, np.std(frev_rating_year[x])))\n",
    "#     temp+=sum(rev_year[x])\n",
    "# print ('month, #reviews, avg. stars')\n",
    "for x in sorted(list(set(m))):\n",
    "    q=len(frev_rating_month[x]) #total reviews in month 'x'\n",
    "    ww3.append((x,q))\n",
    "    ww4.append((x,float(sum(frev_rating_month[x]))/q, np.std(frev_rating_month[x])))\n",
    "# print ('city, avg. stars')\n",
    "for st in filtered_city_list:\n",
    "    ww5.append((st,sum(frev_rating_city[st])/len(frev_rating_city[st]),np.std(frev_rating_city[st])))"
   ]
  },
  {
   "cell_type": "code",
   "execution_count": null,
   "metadata": {
    "collapsed": true
   },
   "outputs": [],
   "source": [
    "frev_rating=defaultdict(list)\n",
    "fs=[]\n",
    "for r in reviews_filtered:\n",
    "    frev_rating[r['stars']].append(1)\n",
    "    fs.append(r['stars'])\n",
    "print ('stars, #reviews')\n",
    "ww=[]\n",
    "for x in list(set(fs)):\n",
    "    ww.append((x,sum(frev_rating[x])))\n",
    "print (ww)"
   ]
  },
  {
   "cell_type": "code",
   "execution_count": null,
   "metadata": {
    "collapsed": true
   },
   "outputs": [],
   "source": [
    "x=0\n",
    "\n",
    "bb=defaultdict(list)\n",
    "s=[]\n",
    "# for r in reviews:\n",
    "#     bb[r['city']].append(1)\n",
    "    \n",
    "for l in business_records:\n",
    "    if l['city'] in filtered_city_list:\n",
    "        bb[l['city']].append(1)\n",
    "        x+=1"
   ]
  },
  {
   "cell_type": "code",
   "execution_count": null,
   "metadata": {
    "collapsed": true
   },
   "outputs": [],
   "source": [
    "aa=[]\n",
    "for c in filtered_city_list:\n",
    "    aa.append((c,sum(bb[c])))\n",
    "aa"
   ]
  },
  {
   "cell_type": "code",
   "execution_count": 86,
   "metadata": {},
   "outputs": [
    {
     "data": {
      "text/plain": [
       "CountVectorizer(analyzer=u'word', binary=False, decode_error=u'strict',\n",
       "        dtype=<type 'numpy.int64'>, encoding=u'utf-8', input=u'content',\n",
       "        lowercase=True, max_df=1.0, max_features=100, min_df=1,\n",
       "        ngram_range=(2, 2), preprocessor=None,\n",
       "        stop_words=[u'a', u'about', u'above', u'after', u'again', u'against', u'all', u'am', u'an', u'and', u'any', u'are', u\"aren't\", u'as', u'at', u'be', u'because', u'been', u'before', u'being', u'below', u'between', u'both', u'but', u'by', u\"can't\", u'cannot', u'could', u\"couldn't\", u'did', u\"didn't\", u...\", u'you', u\"you'd\", u\"you'll\", u\"you're\", u\"you've\", u'your', u'yours', u'yourself', u'yourselves'],\n",
       "        strip_accents=None, token_pattern=u'(?u)\\\\b\\\\w\\\\w+\\\\b',\n",
       "        tokenizer=None, vocabulary=None)"
      ]
     },
     "execution_count": 86,
     "metadata": {},
     "output_type": "execute_result"
    }
   ],
   "source": [
    "import nltk\n",
    "from nltk import ngrams\n",
    "import string\n",
    "from itertools import groupby\n",
    "from stop_words import get_stop_words\n",
    "from collections import Counter\n",
    "from sklearn.feature_extraction.text import CountVectorizer\n",
    "from sklearn.feature_extraction.text import TfidfVectorizer\n",
    "\n",
    "from os import path\n",
    "from PIL import Image\n",
    "import numpy as np\n",
    "import matplotlib.pyplot as plt\n",
    "from collections import Counter\n",
    "\n",
    "\n",
    "\n",
    "from wordcloud import WordCloud, STOPWORDS\n",
    "word_len = 2\n",
    "stop = get_stop_words('english')\n",
    "english_cities=[ 'Edinburgh', 'Pittsburgh']\n",
    "T=CountVectorizer(lowercase=True, max_df=1.0, max_features=100, min_df=1,\n",
    "                  ngram_range=(word_len, word_len), stop_words=stop)\n",
    "\n",
    "city = 'Pittsburgh'\n",
    "# all_reviews = []\n",
    "# for r in reviews_filtered:\n",
    "#     if busID_city[r['business_id']] == city:\n",
    "#         all_reviews.append(r['text'])\n",
    "T.fit(all_reviews)"
   ]
  },
  {
   "cell_type": "code",
   "execution_count": 88,
   "metadata": {},
   "outputs": [
    {
     "name": "stdout",
     "output_type": "stream",
     "text": [
      "('rating', 5)\n",
      "('word_len', 2)\n"
     ]
    },
    {
     "data": {
      "image/png": "[encoded data removed]",
      "text/plain": [
       "<matplotlib.figure.Figure at 0x7f02592da410>"
      ]
     },
     "metadata": {},
     "output_type": "display_data"
    },
    {
     "data": {
      "text/plain": [
       "<matplotlib.figure.Figure at 0x7f01e587edd0>"
      ]
     },
     "metadata": {},
     "output_type": "display_data"
    }
   ],
   "source": [
    "punctuation = set(string.punctuation)\n",
    "mostcounts =[]\n",
    "english_cities=['Pittsburgh']\n",
    "for city in english_cities:\n",
    "    for s in [5]:\n",
    "        print ('rating', s)\n",
    "        temp=[]\n",
    "        for r in reviews_filtered:\n",
    "            if busID_city[r['business_id']] == city:\n",
    "                if r['stars']==s:\n",
    "                    temp.append(r['text'])\n",
    "        for word_len in [2]:\n",
    "            print ('word_len', word_len)\n",
    "#             T.fit(temp)\n",
    "#             temp = [' '.join(temp)]\n",
    "            counts = T.fit_transform(temp)\n",
    "#             print counts\n",
    "            freq = np.sum(counts, axis=0)\n",
    "            vocab = list(T.vocabulary_)\n",
    "            tup = dict(list(zip(vocab,freq.tolist()[0])))\n",
    "#             print tup\n",
    "            alice_mask = np.array(Image.open(\"y.jpg\"))\n",
    "            stopwords = set(STOPWORDS)\n",
    "            wc = WordCloud(background_color=\"white\", max_words=100, mask=alice_mask,\n",
    "                           stopwords=stopwords)\n",
    "            wc.fit_words(tup)\n",
    "            # store to file\n",
    "            wc.to_file(city+'rating'+str(s)+'_'+str(word_len)+\"gram.png\")\n",
    "            plt.imshow(wc)\n",
    "            plt.axis(\"off\")\n",
    "            plt.figure()\n",
    "            plt.show()"
   ]
  },
  {
   "cell_type": "code",
   "execution_count": null,
   "metadata": {
    "collapsed": true
   },
   "outputs": [],
   "source": [
    "l=[]\n",
    "for r in reviews:\n",
    "    l.append(len(r['text'].split()))"
   ]
  },
  {
   "cell_type": "code",
   "execution_count": null,
   "metadata": {
    "collapsed": true
   },
   "outputs": [],
   "source": [
    "import math\n",
    "data = l\n",
    "bins = np.linspace(math.ceil(min(data)), \n",
    "                   math.floor(max(data)),\n",
    "                   100) # fixed number of bins\n",
    "\n",
    "plt.xlim([min(data)-5, max(data)+5])\n",
    "\n",
    "plt.hist(data, bins=bins, alpha=0.5, color='b')\n",
    "plt.title('Complete data: Review length vs. # reviews')\n",
    "plt.xlabel('Reviews length')\n",
    "plt.ylabel('# of reviews')\n",
    "plt.savefig('8.1.png', dpi=300)\n",
    "plt.show()"
   ]
  },
  {
   "cell_type": "code",
   "execution_count": null,
   "metadata": {
    "collapsed": true
   },
   "outputs": [],
   "source": [
    "filtered_city_list"
   ]
  },
  {
   "cell_type": "code",
   "execution_count": null,
   "metadata": {
    "collapsed": true
   },
   "outputs": [],
   "source": [
    "xxx=[]\n",
    "for city in filtered_city_list:\n",
    "    one, two, three, four, five =0,0,0,0,0\n",
    "    for r in reviews_filtered:\n",
    "        if busID_city[r['business_id']]==city:\n",
    "            if r['stars']==1:\n",
    "                one+=1\n",
    "            elif r['stars']==2:\n",
    "                two+=1\n",
    "            elif r['stars']==3:\n",
    "                three+=1\n",
    "            elif r['stars']==4:\n",
    "                four+=1\n",
    "            else:\n",
    "                five+=1\n",
    "    xxx.append((city,[one,two,three,four,five]))"
   ]
  },
  {
   "cell_type": "code",
   "execution_count": null,
   "metadata": {
    "collapsed": true
   },
   "outputs": [],
   "source": [
    "import pandas as pd\n",
    "import matplotlib.pyplot as plt\n",
    "\n",
    "raw_data = {'City': ['Montréal', 'Edinburgh', 'Pittsburgh', 'Stuttgart'],\n",
    "        '1': [6859,1953,14734,2146],\n",
    "        '2': [7195,2883,13132,2333],\n",
    "        '3': [14039,8378,19941,3751],\n",
    "        '4': [32416,17786,40962,7266],\n",
    "        '5': [36001,14482,54349,9140]\n",
    "           }\n",
    "df = pd.DataFrame(raw_data, columns = ['City', '1','2','3','4','5'])\n",
    "df"
   ]
  },
  {
   "cell_type": "code",
   "execution_count": 50,
   "metadata": {
    "collapsed": true
   },
   "outputs": [],
   "source": [
    "# Create a figure with a single subplot\n",
    "f, ax = plt.subplots(1, figsize=(10,5))\n",
    "\n",
    "# Set bar width at 1\n",
    "bar_width = 1\n",
    "\n",
    "# positions of the left bar-boundaries\n",
    "bar_l = [i for i in range(len(df['1']))]\n",
    "\n",
    "# positions of the x-axis ticks (center of the bars as bar labels)\n",
    "tick_pos = [i+(bar_width/2) for i in bar_l]\n",
    "\n",
    "# Create the total score for each participant\n",
    "totals = [i+j+k+l+m for i,j,k,l,m in zip(df['1'], df['2'], df['3'],df['4'],df['5'])]\n",
    "\n",
    "rel_1 = [i / j * 100 for  i,j in zip(df['1'], totals)]\n",
    "rel_2 = [i / j * 100 for  i,j in zip(df['2'], totals)]\n",
    "rel_3 = [i / j * 100 for  i,j in zip(df['3'], totals)]\n",
    "rel_4 = [i / j * 100 for  i,j in zip(df['4'], totals)]\n",
    "rel_5 = [i / j * 100 for  i,j in zip(df['5'], totals)]\n",
    "\n",
    "# Create a bar chart in position bar_1\n",
    "ax.bar(bar_l,\n",
    "       # using pre_rel data\n",
    "       rel_1,\n",
    "       # labeled\n",
    "       label='Pre Score',\n",
    "       # with alpha\n",
    "       alpha=0.9,\n",
    "       # with color\n",
    "       color='black',\n",
    "       # with bar width\n",
    "       width=bar_width,\n",
    "       # with border color\n",
    "       edgecolor='white'\n",
    "       )\n",
    "\n",
    "# Create a bar chart in position bar_1\n",
    "ax.bar(bar_l,\n",
    "       # using mid_rel data\n",
    "       rel_2,\n",
    "       # with pre_rel\n",
    "       bottom=rel_1,\n",
    "       # labeled\n",
    "       label='Mid Score',\n",
    "       # with alpha\n",
    "       alpha=0.9,\n",
    "       # with color\n",
    "       color='#3C5F5A',\n",
    "       # with bar width\n",
    "       width=bar_width,\n",
    "       # with border color\n",
    "       edgecolor='white'\n",
    "       )\n",
    "\n",
    "# Create a bar chart in position bar_1\n",
    "ax.bar(bar_l,\n",
    "       # using post_rel data\n",
    "       rel_3,\n",
    "       # with pre_rel and mid_rel on bottom\n",
    "       bottom=[i+j for i,j in zip(rel_1, rel_2)],\n",
    "       # labeled\n",
    "       label='Post Score',\n",
    "       # with alpha\n",
    "       alpha=0.9,\n",
    "       # with color\n",
    "       color='blue',\n",
    "       # with bar width\n",
    "       width=bar_width,\n",
    "       # with border color\n",
    "       edgecolor='white'\n",
    "       )\n",
    "ax.bar(bar_l,\n",
    "       # using post_rel data\n",
    "       rel_4,\n",
    "       # with pre_rel and mid_rel on bottom\n",
    "       bottom=[i+j+k for i,j,k in zip(rel_1, rel_2,rel_3)],\n",
    "       # labeled\n",
    "       label='Post Score 1',\n",
    "       # with alpha\n",
    "       alpha=0.9,\n",
    "       # with color\n",
    "       color='#219AD8',\n",
    "       # with bar width\n",
    "       width=bar_width,\n",
    "       # with border color\n",
    "       edgecolor='white'\n",
    "       )\n",
    "\n",
    "ax.bar(bar_l,\n",
    "       # using post_rel data\n",
    "       rel_5,\n",
    "       # with pre_rel and mid_rel on bottom\n",
    "       bottom=[i+j+l+m for i,j,l,m in zip(rel_1, rel_2,rel_3,rel_4)],\n",
    "       # labeled\n",
    "       label='Post Score 2',\n",
    "       # with alpha\n",
    "       alpha=0.9,\n",
    "       # with color\n",
    "       color='green',\n",
    "       # with bar width\n",
    "       width=bar_width,\n",
    "       # with border color\n",
    "       edgecolor='white'\n",
    "       )\n",
    "\n",
    "\n",
    "# Set the ticks to be first names\n",
    "plt.xticks(tick_pos, df['City'])\n",
    "ax.set_ylabel(\"Percentage of reviews\")\n",
    "ax.set_xlabel(\"\")\n",
    "\n",
    "# Let the borders of the graphic\n",
    "plt.xlim([min(tick_pos)-bar_width, max(tick_pos)])\n",
    "plt.ylim(0, 100)\n",
    "# rotate axis labels\n",
    "plt.setp(plt.gca().get_xticklabels(), rotation=0, horizontalalignment='right')\n",
    "plt.title('Rating distribution: 1 star at bottom (black) to 5 star at top (green))')\n",
    "plt.savefig('9.1.png',dpi=300)\n",
    "# shot plot\n",
    "plt.show()"
   ]
  },
  {
   "cell_type": "markdown",
   "metadata": {},
   "source": [
    "# Train and compare models"
   ]
  },
  {
   "cell_type": "code",
   "execution_count": 89,
   "metadata": {},
   "outputs": [
    {
     "name": "stderr",
     "output_type": "stream",
     "text": [
      "/usr/local/lib/python2.7/dist-packages/sklearn/cross_validation.py:44: DeprecationWarning: This module was deprecated in version 0.18 in favor of the model_selection module into which all the refactored classes and functions are moved. Also note that the interface of the new CV iterators are different from that of this module. This module will be removed in 0.20.\n",
      "  \"This module will be removed in 0.20.\", DeprecationWarning)\n"
     ]
    },
    {
     "name": "stdout",
     "output_type": "stream",
     "text": [
      "Edinburgh\n",
      "Stuttgart\n",
      "Montréal\n"
     ]
    },
    {
     "name": "stderr",
     "output_type": "stream",
     "text": [
      "/usr/local/lib/python2.7/dist-packages/ipykernel_launcher.py:62: UnicodeWarning: Unicode equal comparison failed to convert both arguments to Unicode - interpreting them as being unequal\n"
     ]
    },
    {
     "name": "stdout",
     "output_type": "stream",
     "text": [
      "Pittsburgh\n"
     ]
    }
   ],
   "source": [
    "from sklearn.cross_validation import train_test_split\n",
    "from sklearn.feature_extraction.text import CountVectorizer\n",
    "from stop_words import get_stop_words\n",
    "stop2 = get_stop_words('german')\n",
    "stop1 = get_stop_words('english')\n",
    "from sklearn import linear_model\n",
    "from sklearn.metrics import mean_squared_error\n",
    "from sklearn.ensemble import RandomForestRegressor, GradientBoostingRegressor\n",
    "from textstat.textstat import textstat\n",
    "from sklearn.linear_model import Ridge\n",
    "from scipy.special import expit\n",
    "from sklearn.neural_network import MLPRegressor\n",
    "from sklearn.feature_extraction.text import TfidfTransformer\n",
    "from sklearn.feature_extraction.text import TfidfVectorizer\n",
    "from sklearn.tree import DecisionTreeRegressor\n",
    "from sklearn.ensemble import AdaBoostRegressor\n",
    "from sklearn.svm import LinearSVC\n",
    "from sklearn import svm\n",
    "import numpy as np\n",
    "\n",
    "# fall=['fall',10,11,12]\n",
    "# spring=['spring',4,5,6]\n",
    "# winter=['winter',1,2,3]\n",
    "# summer=['summer',7,8,9]\n",
    "# seasons = [winter, spring, summer, fall]\n",
    "\n",
    "spring=['2010s',2011,2012,2013,2014,2015,2016,2017]\n",
    "winter=['2000s',2003,2004,2005,2006,2007,2008,2009,2010]\n",
    "# seasons = [winter, spring]\n",
    "seasons = ['Edinburgh', 'Stuttgart','Montréal', 'Pittsburgh']\n",
    "# english_cities=['Montréal','Edinburgh', 'Pittsburgh']\n",
    "# nonenglish_cities=['Stuttgart']\n",
    "# for city in english_cities:\n",
    "#     print (city)\n",
    "#     for season in seasons:\n",
    "english_reviews=[]\n",
    "english_stars=[]\n",
    "# nonenglish_reviews=[]\n",
    "# nonenglish_stars=[]\n",
    "for r in reviews_filtered:\n",
    "#     if busID_city[r['business_id']] in english_cities:\n",
    "    english_reviews.append(r)\n",
    "    english_stars.append(r['stars'])\n",
    "#     elif busID_city[r['business_id']] in nonenglish_cities:\n",
    "#         nonenglish_reviews.append(r)\n",
    "#         nonenglish_stars.append(r['stars'])\n",
    "\n",
    "english=[]\n",
    "english_stars=[]\n",
    "english_test=[]\n",
    "english_stars_test=[]\n",
    "\n",
    "for season in seasons:\n",
    "    print (season)\n",
    "    all_1stars_text = []\n",
    "    all_2stars_text = []\n",
    "    all_3stars_text = []\n",
    "    all_4stars_text = []\n",
    "    all_5stars_text = []\n",
    "    for r in english_reviews:\n",
    "#         if int(r['date'].split('-')[0]) in season:\n",
    "        if busID_city[r['business_id']] == season:\n",
    "            if r['stars']==1:\n",
    "                all_1stars_text.append(r['text'])\n",
    "            elif r['stars']==2:\n",
    "                all_2stars_text.append(r['text'])\n",
    "            elif r['stars']==3:\n",
    "                all_3stars_text.append(r['text'])\n",
    "            elif r['stars']==4:\n",
    "                all_4stars_text.append(r['text'])\n",
    "            else:\n",
    "                all_5stars_text.append(r['text'])\n",
    "\n",
    "    all_1stars_labels = [1.0]*len(all_1stars_text)\n",
    "    all_2stars_labels = [2.0]*len(all_2stars_text)\n",
    "    all_3stars_labels = [3.0]*len(all_3stars_text)\n",
    "    all_4stars_labels = [4.0]*len(all_4stars_text)\n",
    "    all_5stars_labels = [5.0]*len(all_5stars_text)\n",
    "\n",
    "    all_1stars_text_train, all_1stars_text_test, all_1stars_labels_train, all_1stars_labels_test = train_test_split(all_1stars_text, all_1stars_labels, test_size=0.20)\n",
    "    all_2stars_text_train, all_2stars_text_test, all_2stars_labels_train, all_2stars_labels_test = train_test_split(all_2stars_text, all_2stars_labels, test_size=0.20)\n",
    "    all_3stars_text_train, all_3stars_text_test, all_3stars_labels_train, all_3stars_labels_test = train_test_split(all_3stars_text, all_3stars_labels, test_size=0.20)\n",
    "    all_4stars_text_train, all_4stars_text_test, all_4stars_labels_train, all_4stars_labels_test = train_test_split(all_4stars_text, all_4stars_labels, test_size=0.20)\n",
    "    all_5stars_text_train, all_5stars_text_test, all_5stars_labels_train, all_5stars_labels_test = train_test_split(all_5stars_text, all_5stars_labels, test_size=0.20)\n",
    "\n",
    "    english.append(all_1stars_text_train+all_2stars_text_train+all_3stars_text_train+all_4stars_text_train+all_5stars_text_train)\n",
    "\n",
    "    english_test.append(all_1stars_text_test+all_2stars_text_test+all_3stars_text_test+all_4stars_text_test+all_5stars_text_test)\n",
    "\n",
    "    english_stars.append(np.array(all_1stars_labels_train+all_2stars_labels_train+all_3stars_labels_train+all_4stars_labels_train+all_5stars_labels_train))\n",
    "\n",
    "    english_stars_test.append(np.array(all_1stars_labels_test+all_2stars_labels_test+all_3stars_labels_test+all_4stars_labels_test+all_5stars_labels_test))\n"
   ]
  },
  {
   "cell_type": "code",
   "execution_count": 90,
   "metadata": {},
   "outputs": [
    {
     "name": "stdout",
     "output_type": "stream",
     "text": [
      "0.675\n"
     ]
    }
   ],
   "source": [
    "N = [(1,1)]\n",
    "for i in [0]:\n",
    "    for n1,n2 in N:\n",
    "        english_vectorizer=TfidfVectorizer(lowercase=True, max_df=1.0, max_features=1000, min_df=1,\n",
    "                ngram_range=(n1, n2), stop_words=stop1+stop2)\n",
    "        X_english_train = english_vectorizer.fit_transform(english[i]).toarray()\n",
    "    #     X_english_test = english_vectorizer.transform(english_test).toarray()\n",
    "    \n",
    "    #     reg = RandomForestRegressor(n_estimators=15, criterion='mse', max_depth=20)#GradientBoostingRegressor(n_estimators=100, criterion='mse')\n",
    "        reg = linear_model.LinearRegression()\n",
    "    #     reg=GradientBoostingRegressor(n_estimators=200,min_impurity_split=1e-3)\n",
    "    #     reg=AdaBoostRegressor(DecisionTreeRegressor(max_depth=4),n_estimators=50)\n",
    "    #     reg=LinearSVC()\n",
    "    \n",
    "        reg.fit (X_english_train, list(english_stars[i]))\n",
    "        X_english_test = english_vectorizer.transform(english_test[i]).toarray()\n",
    "        english_stars_pred = reg.predict((X_english_test))\n",
    "        mm=mean_squared_error(english_stars_pred, english_stars_test[i])\n",
    "        print (round(mm,3))"
   ]
  },
  {
   "cell_type": "code",
   "execution_count": null,
   "metadata": {
    "collapsed": true
   },
   "outputs": [],
   "source": [
    "# reg = RandomForestRegressor(n_estimators=100, criterion='mse', max_depth=20)#GradientBoostingRegressor(n_estimators=100, criterion='mse')\n",
    "# #     reg = linear_model.LinearRegression()\n",
    "# reg.fit(X_german_train, german_stars)\n",
    "# german_stars_pred = reg.predict(X_german_test)\n",
    "# #     mse_english.append(mean_squared_error(english_stars_pred, english_stars_test)) \n",
    "# mse_german.append(mean_squared_error(german_stars_pred, german_stars_test))\n",
    "# mse_german\n",
    "\n",
    "reg = RandomForestRegressor(n_estimators=15, criterion='mse', max_depth=20)#GradientBoostingRegressor(n_estimators=100, criterion='mse')\n",
    "reg.fit(X_english_train,english_stars)\n",
    "english_stars_pred = reg.predict(X_english_test)\n",
    "mse_english.append(mean_squared_error(english_stars_pred, english_stars_test)) \n",
    "mse_english\n",
    "\n",
    "# np.array([N,str(mse_english),str(mse_german)])"
   ]
  },
  {
   "cell_type": "code",
   "execution_count": null,
   "metadata": {
    "collapsed": true
   },
   "outputs": [],
   "source": [
    "# from vowpalwabbit import pyvw\n",
    "# vw = pyvw.vw(quiet=True)\n",
    "# from sklearn import datasets\n",
    "# from vowpalwabbit.sklearn_vw import VWClassifier\n",
    "\n",
    "#  # generate some data\n",
    "# model = VWClassifier()\n",
    "# model.fit(X_english_train,english_stars)\n",
    "# # model.score(X_train, y_train)\n",
    "# english_stars_pred = model.predict(X_english_test)\n",
    "# mean_squared_error(english_stars_pred, english_stars_test)"
   ]
  },
  {
   "cell_type": "markdown",
   "metadata": {},
   "source": [
    "# Dimensionality reduction"
   ]
  },
  {
   "cell_type": "code",
   "execution_count": 104,
   "metadata": {
    "collapsed": true
   },
   "outputs": [],
   "source": [
    "temp=[]\n",
    "for r in reviews_filtered:\n",
    "    if busID_city[r['business_id']] in english_cities:\n",
    "        if r['useful'] or r['cool'] or r['funny']:\n",
    "            temp.append([r['useful'],r['cool'],r['funny']])\n",
    "temp=np.array(temp)"
   ]
  },
  {
   "cell_type": "code",
   "execution_count": 105,
   "metadata": {},
   "outputs": [
    {
     "data": {
      "text/plain": [
       "PCA(copy=True, iterated_power='auto', n_components=3, random_state=None,\n",
       "  svd_solver='auto', tol=0.0, whiten=False)"
      ]
     },
     "execution_count": 105,
     "metadata": {},
     "output_type": "execute_result"
    }
   ],
   "source": [
    "from sklearn.decomposition import PCA\n",
    "pca=PCA(n_components = 3)\n",
    "pca.fit(temp)"
   ]
  },
  {
   "cell_type": "code",
   "execution_count": 111,
   "metadata": {},
   "outputs": [
    {
     "data": {
      "text/plain": [
       "array([ 23.9737778 ,   1.10051455,   0.72412819])"
      ]
     },
     "execution_count": 111,
     "metadata": {},
     "output_type": "execute_result"
    }
   ],
   "source": [
    "pca.explained_variance_"
   ]
  },
  {
   "cell_type": "code",
   "execution_count": 119,
   "metadata": {
    "collapsed": true
   },
   "outputs": [],
   "source": [
    "x=[]\n",
    "for b in business_records:\n",
    "    if b['categories']:\n",
    "        if 'Restaurants' in b['categories']:\n",
    "            x.append(b['business_id'])"
   ]
  },
  {
   "cell_type": "code",
   "execution_count": 121,
   "metadata": {},
   "outputs": [
    {
     "data": {
      "text/plain": [
       "214261"
      ]
     },
     "execution_count": 121,
     "metadata": {},
     "output_type": "execute_result"
    }
   ],
   "source": [
    "t=0\n",
    "x=set(x)\n",
    "for r in reviews_filtered:\n",
    "    if r['business_id'] in x:\n",
    "            t+=1\n",
    "t"
   ]
  },
  {
   "cell_type": "code",
   "execution_count": 125,
   "metadata": {
    "collapsed": true
   },
   "outputs": [],
   "source": [
    "rest=[]\n",
    "for b in business_records:\n",
    "    if b['business_id'] in x:\n",
    "        rest.append(b)"
   ]
  },
  {
   "cell_type": "code",
   "execution_count": 138,
   "metadata": {
    "collapsed": true
   },
   "outputs": [],
   "source": [
    "r_Seafood=[]\n",
    "for r in rest:\n",
    "    if 'Seafood' in r['categories']:\n",
    "        r_Seafood.append(r)\n",
    "# len(list(set(ff)))"
   ]
  },
  {
   "cell_type": "code",
   "execution_count": 131,
   "metadata": {
    "collapsed": true
   },
   "outputs": [],
   "source": [
    "counts = Counter(ff)"
   ]
  }
 ],
 "metadata": {
  "kernelspec": {
   "display_name": "Python 2",
   "language": "python",
   "name": "python2"
  },
  "language_info": {
   "codemirror_mode": {
    "name": "ipython",
    "version": 2
   },
   "file_extension": ".py",
   "mimetype": "text/x-python",
   "name": "python",
   "nbconvert_exporter": "python",
   "pygments_lexer": "ipython2",
   "version": "2.7.12"
  }
 },
 "nbformat": 4,
 "nbformat_minor": 2
}
